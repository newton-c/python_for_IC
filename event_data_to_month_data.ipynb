{
  "nbformat": 4,
  "nbformat_minor": 0,
  "metadata": {
    "colab": {
      "provenance": [],
      "mount_file_id": "1-a717rbzJytzSfCA4JKMpjtz8w9se9Q2",
      "authorship_tag": "ABX9TyNQi6BvuyNIwO/TRqeJchP2"
    },
    "kernelspec": {
      "name": "python3",
      "display_name": "Python 3"
    },
    "language_info": {
      "name": "python"
    }
  },
  "cells": [
    {
      "cell_type": "code",
      "execution_count": null,
      "metadata": {
        "id": "mYJZTOB_nIoo"
      },
      "outputs": [],
      "source": []
    },
    {
      "cell_type": "markdown",
      "source": [
        "# Convert event data to montly data\n",
        "Often, you'll get datasets, such as those from ACELD, that have one event per row, whith the data of each event. This format is very flexible and can be used in many ways, but we often want to aggregate it, to see monthly changes, for example.\n",
        "\n",
        "This notebook will walk you through the steps of taking an ACLED events dataset, and turning it into monthtly data. These process here can be extendend to most datasets organized by dates, and for different units of time, such as years.\n",
        "\n",
        "For this tutorial, we only need one library, `pandas`, which will take care of all of our data maniuplation needs."
      ],
      "metadata": {
        "id": "dPPfgQennrgJ"
      }
    },
    {
      "cell_type": "code",
      "source": [
        "import pandas as pd"
      ],
      "metadata": {
        "id": "UC0dyzQbog2P"
      },
      "execution_count": null,
      "outputs": []
    },
    {
      "cell_type": "markdown",
      "source": [
        "First, let's read our CSV file, and look at the structure and first few lines of our data."
      ],
      "metadata": {
        "id": "rnZ9nJdUpjxD"
      }
    },
    {
      "cell_type": "code",
      "source": [
        "df = pd.read_csv('data/event_data_to_month_data.csv')\n",
        "print(df.info())\n",
        "print(df.head())"
      ],
      "metadata": {
        "id": "PjSVMFFxppRW"
      },
      "execution_count": null,
      "outputs": []
    }
  ]
}