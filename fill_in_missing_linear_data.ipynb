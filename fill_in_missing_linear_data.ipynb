{
  "nbformat": 4,
  "nbformat_minor": 0,
  "metadata": {
    "colab": {
      "provenance": [],
      "authorship_tag": "ABX9TyPodAkU4QJmBBB9ZdegdwC3",
      "include_colab_link": true
    },
    "kernelspec": {
      "name": "python3",
      "display_name": "Python 3"
    },
    "language_info": {
      "name": "python"
    }
  },
  "cells": [
    {
      "cell_type": "markdown",
      "metadata": {
        "id": "view-in-github",
        "colab_type": "text"
      },
      "source": [
        "<a href=\"https://colab.research.google.com/github/newton-c/python_for_IC/blob/main/fill_in_missing_linear_data.ipynb\" target=\"_parent\"><img src=\"https://colab.research.google.com/assets/colab-badge.svg\" alt=\"Open In Colab\"/></a>"
      ]
    },
    {
      "cell_type": "markdown",
      "source": [
        "# Linear Interpolation\n",
        "## How to fill in missing data between two points\n",
        "\n",
        "We often have to deal with incomplete data. In general, we can either ignore the missing data or make some assumptions and fill it in. Deleting the data may often feel like the safe option, but it can create bias or unnecessarily limit the useable data we have.\n",
        "\n",
        "Let's say we have a country that conducts a census infreqeuntly. Here we only have population data for the years 2010 and 2022. Our options are:\n",
        "1. only use data for 2010 and 2022, throwing out everything else, like homicides and cocaine seizures for 2011-2021\n",
        "2. use the 2010 population data until 2022, then the 2022 data until another census is conducted\n",
        "3. assume the population changed steadily and estimate the values between 2010 and 2022.\n",
        "\n",
        "If we go with 1, we have to throw out most of our data, and wouldn't be able to show broader trends. With 2, we're making an assumption that doesn't allign with what we know about population growth. Finally 3 is making the assuption that is most likely to be accurate, and will usually be the best option. We should be sure, however to be transparent about filling in the missing data."
      ],
      "metadata": {
        "id": "bfmVA8EnbXyW"
      }
    },
    {
      "cell_type": "code",
      "source": [
        "from scipy.interpolate import interp1d"
      ],
      "metadata": {
        "id": "TN8IqGi-dSdJ"
      },
      "execution_count": 1,
      "outputs": []
    },
    {
      "cell_type": "markdown",
      "source": [
        "Will start by defining the years and populations we have as arrays, `years` and `pop`."
      ],
      "metadata": {
        "id": "n4o3TJmPj8Lv"
      }
    },
    {
      "cell_type": "code",
      "source": [
        "years = [2010, 2022]\n",
        "pop = [233111, 303910]"
      ],
      "metadata": {
        "id": "4CusfqfCdS5E"
      },
      "execution_count": 2,
      "outputs": []
    },
    {
      "cell_type": "markdown",
      "source": [
        "Then we'll make an array, `missing_years`, with the years we want to fill in."
      ],
      "metadata": {
        "id": "k-SttZXpkICq"
      }
    },
    {
      "cell_type": "code",
      "source": [
        "missing_years = [2011, 2012, 2013, 2014, 2015, 2016,\n",
        "                 2017, 2018, 2019, 2020, 2021]"
      ],
      "metadata": {
        "id": "VfnV76lXkIg4"
      },
      "execution_count": 3,
      "outputs": []
    },
    {
      "cell_type": "markdown",
      "source": [
        "Now we can loop through our missing years, pluggin the actual values in the `years` and `pop` arrays into the `interp1d` function to estimate the missing values and add them to an `interp_pop` array."
      ],
      "metadata": {
        "id": "RXmVvsz2kd5W"
      }
    },
    {
      "cell_type": "code",
      "source": [
        "def estimate_pop(x, y):\n",
        "  interp_pop = []\n",
        "  for missing_year in missing_years:\n",
        "    y_interp = interp1d(x, y)\n",
        "    interp_pop.append(int(y_interp(missing_year)))\n",
        "  return interp_pop"
      ],
      "metadata": {
        "id": "O3PfaR2-kddN"
      },
      "execution_count": 4,
      "outputs": []
    },
    {
      "cell_type": "code",
      "source": [
        "duran_pop = estimate_pop(years, pop)\n",
        "print(duran_pop)"
      ],
      "metadata": {
        "colab": {
          "base_uri": "https://localhost:8080/"
        },
        "id": "ik7IXSGKfJjW",
        "outputId": "a5c11798-0a4c-433b-851e-c4ee9f36d71d"
      },
      "execution_count": 5,
      "outputs": [
        {
          "output_type": "stream",
          "name": "stdout",
          "text": [
            "[239010, 244910, 250810, 256710, 262610, 268510, 274410, 280310, 286210, 292110, 298010]\n"
          ]
        }
      ]
    },
    {
      "cell_type": "markdown",
      "source": [
        "The way this method works is by drawing a line between the points we have. With a missing year, you can look at the value of the line at that year and then use that value to fill in the population. Obviously, populations to not increase at exact, steady rates. But this method will often get us closest to the actual value when we simply don't have more complete, accurate data.\n",
        "\n",
        "We can test some other values to see how the output looks."
      ],
      "metadata": {
        "id": "snmw_H0hlG1r"
      }
    },
    {
      "cell_type": "code",
      "source": [
        "pop = [14225966, 16635076]\n",
        "not_duran_pop = estimate_pop(years, pop)\n",
        "print(not_duran_pop)\n",
        "\n",
        "pop = [14459077, 16938986]\n",
        "ec_duran_pop = estimate_pop(years, pop)\n",
        "print(ec_duran_pop)"
      ],
      "metadata": {
        "colab": {
          "base_uri": "https://localhost:8080/"
        },
        "id": "AHnZL-6MmH3F",
        "outputId": "67119dc4-4bab-4ad0-af31-a4ad4d553ec3"
      },
      "execution_count": 6,
      "outputs": [
        {
          "output_type": "stream",
          "name": "stdout",
          "text": [
            "[14426725, 14627484, 14828243, 15029002, 15229761, 15430521, 15631280, 15832039, 16032798, 16233557, 16434316]\n",
            "[14665736, 14872395, 15079054, 15285713, 15492372, 15699031, 15905690, 16112349, 16319008, 16525667, 16732326]\n"
          ]
        }
      ]
    },
    {
      "cell_type": "markdown",
      "source": [
        "If we have a bunch of different starting and ending points, say for the 10 biggest cities in a country from 2010 to 2022, we can arrange all the data as tuples in an array. We can then loop through the array to interpolate the data for all 10 values."
      ],
      "metadata": {
        "id": "rF9wA4DkMNZk"
      }
    },
    {
      "cell_type": "code",
      "source": [
        "all_pops = [[2350278, 2746403],[233111, 303910],[2242615, 2679722],\n",
        "            [507687, 596101], [367323, 441583], [329296, 370664],\n",
        "            [281747, 322925], [245128, 306309], [225961, 271145],\n",
        "            [226769, 260882]]\n",
        "\n",
        "for pop in all_pops:\n",
        "  print(estimate_pop(years, pop))"
      ],
      "metadata": {
        "colab": {
          "base_uri": "https://localhost:8080/"
        },
        "id": "npJIMLnovCpK",
        "outputId": "76b2462b-fdae-4293-a431-50d36204dd8a"
      },
      "execution_count": 7,
      "outputs": [
        {
          "output_type": "stream",
          "name": "stdout",
          "text": [
            "[2383288, 2416298, 2449309, 2482319, 2515330, 2548340, 2581350, 2614361, 2647371, 2680382, 2713392]\n",
            "[239010, 244910, 250810, 256710, 262610, 268510, 274410, 280310, 286210, 292110, 298010]\n",
            "[2279040, 2315466, 2351891, 2388317, 2424742, 2461168, 2497594, 2534019, 2570445, 2606870, 2643296]\n",
            "[515054, 522422, 529790, 537158, 544526, 551894, 559261, 566629, 573997, 581365, 588733]\n",
            "[373511, 379699, 385888, 392076, 398264, 404453, 410641, 416829, 423018, 429206, 435394]\n",
            "[332743, 336190, 339638, 343085, 346532, 349980, 353427, 356874, 360322, 363769, 367216]\n",
            "[285178, 288610, 292041, 295473, 298904, 302336, 305767, 309199, 312630, 316062, 319493]\n",
            "[250226, 255324, 260423, 265521, 270620, 275718, 280816, 285915, 291013, 296112, 301210]\n",
            "[229726, 233491, 237257, 241022, 244787, 248553, 252318, 256083, 259849, 263614, 267379]\n",
            "[229611, 232454, 235297, 238140, 240982, 243825, 246668, 249511, 252353, 255196, 258039]\n"
          ]
        }
      ]
    }
  ]
}